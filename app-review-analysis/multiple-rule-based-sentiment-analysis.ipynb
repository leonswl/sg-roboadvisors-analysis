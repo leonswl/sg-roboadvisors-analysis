{
 "cells": [
  {
   "cell_type": "markdown",
   "source": [
    "# Part 1.2 - Rule Based Sentiment Analysis\n",
    "\n",
    "Using 3 types of lexicon based approach to conduct sentiment analysis on app reviews\n",
    "- TextBlob\n",
    "- VADER\n",
    "- SentiWordNet"
   ],
   "metadata": {}
  },
  {
   "cell_type": "code",
   "execution_count": 81,
   "source": [
    "import numpy as np\n",
    "import pandas as pd\n",
    "import regex as re\n",
    "import warnings\n",
    "warnings.filterwarnings('ignore')\n"
   ],
   "outputs": [],
   "metadata": {}
  },
  {
   "cell_type": "code",
   "execution_count": 82,
   "source": [
    "# import file\n",
    "app_reviews = pd.read_csv('app_reviews.csv')\n",
    "app_reviews.head()"
   ],
   "outputs": [
    {
     "output_type": "execute_result",
     "data": {
      "text/html": [
       "<div>\n",
       "<style scoped>\n",
       "    .dataframe tbody tr th:only-of-type {\n",
       "        vertical-align: middle;\n",
       "    }\n",
       "\n",
       "    .dataframe tbody tr th {\n",
       "        vertical-align: top;\n",
       "    }\n",
       "\n",
       "    .dataframe thead th {\n",
       "        text-align: right;\n",
       "    }\n",
       "</style>\n",
       "<table border=\"1\" class=\"dataframe\">\n",
       "  <thead>\n",
       "    <tr style=\"text-align: right;\">\n",
       "      <th></th>\n",
       "      <th>app_name</th>\n",
       "      <th>content</th>\n",
       "    </tr>\n",
       "  </thead>\n",
       "  <tbody>\n",
       "    <tr>\n",
       "      <th>0</th>\n",
       "      <td>Syfe</td>\n",
       "      <td>1. The portfolio “card user interface” can be ...</td>\n",
       "    </tr>\n",
       "    <tr>\n",
       "      <th>1</th>\n",
       "      <td>Syfe</td>\n",
       "      <td>This hybrid app is quite buggy compared Stasha...</td>\n",
       "    </tr>\n",
       "    <tr>\n",
       "      <th>2</th>\n",
       "      <td>Syfe</td>\n",
       "      <td>The app and website is just a bunch of fake li...</td>\n",
       "    </tr>\n",
       "    <tr>\n",
       "      <th>3</th>\n",
       "      <td>Syfe</td>\n",
       "      <td>The app looks fantastic and it’s so fresh with...</td>\n",
       "    </tr>\n",
       "    <tr>\n",
       "      <th>4</th>\n",
       "      <td>Syfe</td>\n",
       "      <td>Hi there,\\n\\nThe app checks for latest version...</td>\n",
       "    </tr>\n",
       "  </tbody>\n",
       "</table>\n",
       "</div>"
      ],
      "text/plain": [
       "  app_name                                            content\n",
       "0     Syfe  1. The portfolio “card user interface” can be ...\n",
       "1     Syfe  This hybrid app is quite buggy compared Stasha...\n",
       "2     Syfe  The app and website is just a bunch of fake li...\n",
       "3     Syfe  The app looks fantastic and it’s so fresh with...\n",
       "4     Syfe  Hi there,\\n\\nThe app checks for latest version..."
      ]
     },
     "metadata": {},
     "execution_count": 82
    }
   ],
   "metadata": {}
  },
  {
   "cell_type": "markdown",
   "source": [
    "# 1. Data Preprocessing\n",
    "Data preprocessing steps:\n",
    "\n",
    "a. Cleaning the text  \n",
    "b. Tokenization   \n",
    "c. Enrichment – POS tagging   \n",
    "d. Stopwords removal  \n",
    "e. Obtaining the stem words "
   ],
   "metadata": {}
  },
  {
   "cell_type": "markdown",
   "source": [
    "## 1a. Cleaning the Text\n",
    "\n",
    "Remove the special characters, numbers from the review text using regex"
   ],
   "metadata": {}
  },
  {
   "cell_type": "code",
   "execution_count": 83,
   "source": [
    "# Define a function to clean the text\n",
    "def clean(text):\n",
    "# Removes all special characters and numericals leaving the alphabets\n",
    "    text = re.sub('[^A-Za-z]+', ' ', text)\n",
    "    return text\n",
    "\n",
    "# Cleaning the text in the review column\n",
    "app_reviews['cleaned_reviews'] = app_reviews['content'].apply(clean)\n",
    "app_reviews.head()"
   ],
   "outputs": [
    {
     "output_type": "execute_result",
     "data": {
      "text/html": [
       "<div>\n",
       "<style scoped>\n",
       "    .dataframe tbody tr th:only-of-type {\n",
       "        vertical-align: middle;\n",
       "    }\n",
       "\n",
       "    .dataframe tbody tr th {\n",
       "        vertical-align: top;\n",
       "    }\n",
       "\n",
       "    .dataframe thead th {\n",
       "        text-align: right;\n",
       "    }\n",
       "</style>\n",
       "<table border=\"1\" class=\"dataframe\">\n",
       "  <thead>\n",
       "    <tr style=\"text-align: right;\">\n",
       "      <th></th>\n",
       "      <th>app_name</th>\n",
       "      <th>content</th>\n",
       "      <th>cleaned_reviews</th>\n",
       "    </tr>\n",
       "  </thead>\n",
       "  <tbody>\n",
       "    <tr>\n",
       "      <th>0</th>\n",
       "      <td>Syfe</td>\n",
       "      <td>1. The portfolio “card user interface” can be ...</td>\n",
       "      <td>The portfolio card user interface can be inco...</td>\n",
       "    </tr>\n",
       "    <tr>\n",
       "      <th>1</th>\n",
       "      <td>Syfe</td>\n",
       "      <td>This hybrid app is quite buggy compared Stasha...</td>\n",
       "      <td>This hybrid app is quite buggy compared Stasha...</td>\n",
       "    </tr>\n",
       "    <tr>\n",
       "      <th>2</th>\n",
       "      <td>Syfe</td>\n",
       "      <td>The app and website is just a bunch of fake li...</td>\n",
       "      <td>The app and website is just a bunch of fake li...</td>\n",
       "    </tr>\n",
       "    <tr>\n",
       "      <th>3</th>\n",
       "      <td>Syfe</td>\n",
       "      <td>The app looks fantastic and it’s so fresh with...</td>\n",
       "      <td>The app looks fantastic and it s so fresh with...</td>\n",
       "    </tr>\n",
       "    <tr>\n",
       "      <th>4</th>\n",
       "      <td>Syfe</td>\n",
       "      <td>Hi there,\\n\\nThe app checks for latest version...</td>\n",
       "      <td>Hi there The app checks for latest version dur...</td>\n",
       "    </tr>\n",
       "  </tbody>\n",
       "</table>\n",
       "</div>"
      ],
      "text/plain": [
       "  app_name                                            content  \\\n",
       "0     Syfe  1. The portfolio “card user interface” can be ...   \n",
       "1     Syfe  This hybrid app is quite buggy compared Stasha...   \n",
       "2     Syfe  The app and website is just a bunch of fake li...   \n",
       "3     Syfe  The app looks fantastic and it’s so fresh with...   \n",
       "4     Syfe  Hi there,\\n\\nThe app checks for latest version...   \n",
       "\n",
       "                                     cleaned_reviews  \n",
       "0   The portfolio card user interface can be inco...  \n",
       "1  This hybrid app is quite buggy compared Stasha...  \n",
       "2  The app and website is just a bunch of fake li...  \n",
       "3  The app looks fantastic and it s so fresh with...  \n",
       "4  Hi there The app checks for latest version dur...  "
      ]
     },
     "metadata": {},
     "execution_count": 83
    }
   ],
   "metadata": {}
  },
  {
   "cell_type": "markdown",
   "source": [
    "## 1b. Tokenisation\n",
    "\n",
    "Using nltk tokenize function word_tokenize() to perform word-level tokenization\n",
    "\n",
    "## 1c. Enrichment – POS tagging\n",
    "\n",
    "Using the nltk pos_tag function to perform Parts of Speech (POS) tagging - converting each token into a tuple having the form (word, tag). POS tagging essential to preserve the context of the word and is essential for Lemmatization\n",
    "\n",
    "## 1d. Stopwords removal\n",
    "Stopwords in English are words that carry very little useful information. We need to remove them as part of text preprocessing. nltk has a list of stopwords of every language. "
   ],
   "metadata": {}
  },
  {
   "cell_type": "code",
   "execution_count": 84,
   "source": [
    "import nltk\n",
    "from nltk.tokenize import word_tokenize\n",
    "# Download punkt resource if unavailable\n",
    "# nltk.download('punkt') \n",
    "\n",
    "from nltk.tag import pos_tag\n",
    "# Download averaged_perceptron_tagger resource if unavailable\n",
    "# nltk.download('averaged_perceptron_tagger')\n",
    "\n",
    "from nltk.corpus import stopwords\n",
    "# nltk.download('stopwords')\n",
    "from nltk.corpus import wordnet\n",
    "# Download wordnet resource if unavailable\n",
    "# nltk.download('wordnet')"
   ],
   "outputs": [],
   "metadata": {}
  },
  {
   "cell_type": "code",
   "execution_count": 85,
   "source": [
    "## POS tagger dictionary\n",
    "# To obtain the accurate Lemma, the WordNetLemmatizer requires POS tags in the form of ‘n’, ‘a’, etc. \n",
    "# But the POS tags obtained from pos_tag are in the form of ‘NN’, ‘ADJ’, etc.\n",
    "# To map pos_tag to wordnet tags, we created a dictionary pos_dict. \n",
    "# Any pos_tag that starts with J is mapped to wordnet.ADJ, any pos_tag that starts with R is mapped to wordnet.ADV, and so on.\n",
    "# Our tags of interest are Noun, Adjective, Adverb, Verb. Anything out of these four is mapped to None.\n",
    "pos_dict = {'J':wordnet.ADJ, 'V':wordnet.VERB, 'N':wordnet.NOUN, 'R':wordnet.ADV}\n",
    "\n",
    "def token_stop_pos(text):\n",
    "    tags = pos_tag(word_tokenize(text)) # tokenise the reviews, and pos tag the tokens\n",
    "    newlist = [] # create empty list to append tags to the words\n",
    "    for word, tag in tags: # interate through the tuples (word:pos tag) in tags\n",
    "        if word.lower() not in set(stopwords.words('english')): # remove stop words\n",
    "            newlist.append(tuple([word, pos_dict.get(tag[0])])) # append new pos tags in the correct form by mapping to pos_dict\n",
    "    return newlist\n",
    "\n",
    "app_reviews['pos_tagged'] = app_reviews['cleaned_reviews'].apply(token_stop_pos) # apply token_stop_pos function to the reviews\n",
    "app_reviews.head()"
   ],
   "outputs": [],
   "metadata": {}
  },
  {
   "cell_type": "markdown",
   "source": [
    "## 1e. Obtaining the stem words\n",
    "A stem is a part of a word responsible for its lexical meaning. The two popular techniques of obtaining the root/stem words are Stemming and Lemmatization.\n",
    "\n",
    "The key difference is Stemming often gives some meaningless root words as it simply chops off some characters in the end. Lemmatization gives meaningful root words, however, it requires POS tags of the words."
   ],
   "metadata": {}
  },
  {
   "cell_type": "code",
   "execution_count": null,
   "source": [
    "from nltk.stem import WordNetLemmatizer\n",
    "\n",
    "wordnet_lemmatizer = WordNetLemmatizer()\n",
    "\n",
    "def lemmatize(pos_data):\n",
    "    lemma_rew = \" \" # create empoty string\n",
    "    for word, pos in pos_data: # iterate through tuples (word,POS tag)\n",
    "        if not pos: \n",
    "            lemma = word\n",
    "            lemma_rew = lemma_rew + \" \" + lemma\n",
    "        else:\n",
    "            lemma = wordnet_lemmatizer.lemmatize(word, pos=pos)\n",
    "            lemma_rew = lemma_rew + \" \" + lemma\n",
    "    return lemma_rew\n",
    "\n",
    "app_reviews['Lemma'] = app_reviews['pos_tagged'].apply(lemmatize)\n",
    "app_reviews.head()"
   ],
   "outputs": [
    {
     "output_type": "execute_result",
     "data": {
      "text/html": [
       "<div>\n",
       "<style scoped>\n",
       "    .dataframe tbody tr th:only-of-type {\n",
       "        vertical-align: middle;\n",
       "    }\n",
       "\n",
       "    .dataframe tbody tr th {\n",
       "        vertical-align: top;\n",
       "    }\n",
       "\n",
       "    .dataframe thead th {\n",
       "        text-align: right;\n",
       "    }\n",
       "</style>\n",
       "<table border=\"1\" class=\"dataframe\">\n",
       "  <thead>\n",
       "    <tr style=\"text-align: right;\">\n",
       "      <th></th>\n",
       "      <th>app_name</th>\n",
       "      <th>content</th>\n",
       "      <th>cleaned_reviews</th>\n",
       "      <th>pos_tagged</th>\n",
       "      <th>Lemma</th>\n",
       "    </tr>\n",
       "  </thead>\n",
       "  <tbody>\n",
       "    <tr>\n",
       "      <th>0</th>\n",
       "      <td>Syfe</td>\n",
       "      <td>1. The portfolio “card user interface” can be ...</td>\n",
       "      <td>The portfolio card user interface can be inco...</td>\n",
       "      <td>[(portfolio, n), (card, n), (user, None), (int...</td>\n",
       "      <td>portfolio card user interface inconvenient m...</td>\n",
       "    </tr>\n",
       "    <tr>\n",
       "      <th>1</th>\n",
       "      <td>Syfe</td>\n",
       "      <td>This hybrid app is quite buggy compared Stasha...</td>\n",
       "      <td>This hybrid app is quite buggy compared Stasha...</td>\n",
       "      <td>[(hybrid, a), (app, n), (quite, r), (buggy, a)...</td>\n",
       "      <td>hybrid app quite buggy compare Stashaway How...</td>\n",
       "    </tr>\n",
       "    <tr>\n",
       "      <th>2</th>\n",
       "      <td>Syfe</td>\n",
       "      <td>The app and website is just a bunch of fake li...</td>\n",
       "      <td>The app and website is just a bunch of fake li...</td>\n",
       "      <td>[(app, n), (website, n), (bunch, n), (fake, a)...</td>\n",
       "      <td>app website bunch fake lie Starting onboardi...</td>\n",
       "    </tr>\n",
       "    <tr>\n",
       "      <th>3</th>\n",
       "      <td>Syfe</td>\n",
       "      <td>The app looks fantastic and it’s so fresh with...</td>\n",
       "      <td>The app looks fantastic and it s so fresh with...</td>\n",
       "      <td>[(app, n), (looks, v), (fantastic, a), (fresh,...</td>\n",
       "      <td>app look fantastic fresh different color muc...</td>\n",
       "    </tr>\n",
       "    <tr>\n",
       "      <th>4</th>\n",
       "      <td>Syfe</td>\n",
       "      <td>Hi there,\\n\\nThe app checks for latest version...</td>\n",
       "      <td>Hi there The app checks for latest version dur...</td>\n",
       "      <td>[(Hi, n), (app, n), (checks, n), (latest, a), ...</td>\n",
       "      <td>Hi app check late version launch alert user ...</td>\n",
       "    </tr>\n",
       "  </tbody>\n",
       "</table>\n",
       "</div>"
      ],
      "text/plain": [
       "  app_name                                            content  \\\n",
       "0     Syfe  1. The portfolio “card user interface” can be ...   \n",
       "1     Syfe  This hybrid app is quite buggy compared Stasha...   \n",
       "2     Syfe  The app and website is just a bunch of fake li...   \n",
       "3     Syfe  The app looks fantastic and it’s so fresh with...   \n",
       "4     Syfe  Hi there,\\n\\nThe app checks for latest version...   \n",
       "\n",
       "                                     cleaned_reviews  \\\n",
       "0   The portfolio card user interface can be inco...   \n",
       "1  This hybrid app is quite buggy compared Stasha...   \n",
       "2  The app and website is just a bunch of fake li...   \n",
       "3  The app looks fantastic and it s so fresh with...   \n",
       "4  Hi there The app checks for latest version dur...   \n",
       "\n",
       "                                          pos_tagged  \\\n",
       "0  [(portfolio, n), (card, n), (user, None), (int...   \n",
       "1  [(hybrid, a), (app, n), (quite, r), (buggy, a)...   \n",
       "2  [(app, n), (website, n), (bunch, n), (fake, a)...   \n",
       "3  [(app, n), (looks, v), (fantastic, a), (fresh,...   \n",
       "4  [(Hi, n), (app, n), (checks, n), (latest, a), ...   \n",
       "\n",
       "                                               Lemma  \n",
       "0    portfolio card user interface inconvenient m...  \n",
       "1    hybrid app quite buggy compare Stashaway How...  \n",
       "2    app website bunch fake lie Starting onboardi...  \n",
       "3    app look fantastic fresh different color muc...  \n",
       "4    Hi app check late version launch alert user ...  "
      ]
     },
     "metadata": {},
     "execution_count": 67
    }
   ],
   "metadata": {}
  },
  {
   "cell_type": "markdown",
   "source": [
    "# 2. Rule-Based Sentiment Analysis\n",
    "\n",
    "a. TextBlob   \n",
    "b. VADER  \n",
    "c. SentiWordNet  "
   ],
   "metadata": {}
  },
  {
   "cell_type": "code",
   "execution_count": null,
   "source": [
    "# Creating a new data frame with the review, Lemma columns \n",
    "fin_data = pd.DataFrame(app_reviews[['app_name','cleaned_reviews', 'Lemma']])"
   ],
   "outputs": [],
   "metadata": {}
  },
  {
   "cell_type": "markdown",
   "source": [
    "## 2a. Sentiment Analysis using TextBlob\n",
    "\n",
    "- Polarity – talks about how positive or negative the opinion is\n",
    "\n",
    "Polarity ranges from -1 to 1 (1 is more positive, 0 is neutral, -1 is more negative)\n",
    "\n",
    "- Subjectivity – talks about how subjective the opinion is\n",
    "\n",
    "Subjectivity ranges from 0 to 1(0 being very objective and 1 being very subjective)\n",
    "\n"
   ],
   "metadata": {}
  },
  {
   "cell_type": "code",
   "execution_count": null,
   "source": [
    "from textblob import TextBlob\n",
    "\n",
    "# function to calculate subjectivity\n",
    "def getSubjectivity(review):\n",
    "    return TextBlob(review).sentiment.subjectivity\n",
    "\n",
    "# function to calculate polarity\n",
    "def getPolarity(review):\n",
    "    return TextBlob(review).sentiment.polarity\n",
    "\n",
    "# function to analyze the reviews\n",
    "def analysis(score):\n",
    "    if score < 0:\n",
    "        return 'Negative'\n",
    "    elif score == 0:\n",
    "        return 'Neutral'\n",
    "    else:\n",
    "        return 'Positive'\n",
    "\n",
    "# Apply the above functions\n",
    "fin_data['subjectivity'] = fin_data['Lemma'].apply(getSubjectivity) \n",
    "fin_data['polarity'] = fin_data['Lemma'].apply(getPolarity) \n",
    "fin_data['textblob-analysis'] = fin_data['polarity'].apply(analysis)\n",
    "\n",
    "fin_data.head()"
   ],
   "outputs": [
    {
     "output_type": "execute_result",
     "data": {
      "text/html": [
       "<div>\n",
       "<style scoped>\n",
       "    .dataframe tbody tr th:only-of-type {\n",
       "        vertical-align: middle;\n",
       "    }\n",
       "\n",
       "    .dataframe tbody tr th {\n",
       "        vertical-align: top;\n",
       "    }\n",
       "\n",
       "    .dataframe thead th {\n",
       "        text-align: right;\n",
       "    }\n",
       "</style>\n",
       "<table border=\"1\" class=\"dataframe\">\n",
       "  <thead>\n",
       "    <tr style=\"text-align: right;\">\n",
       "      <th></th>\n",
       "      <th>app_name</th>\n",
       "      <th>cleaned_reviews</th>\n",
       "      <th>Lemma</th>\n",
       "      <th>subjectivity</th>\n",
       "      <th>polarity</th>\n",
       "      <th>textblob-analysis</th>\n",
       "    </tr>\n",
       "  </thead>\n",
       "  <tbody>\n",
       "    <tr>\n",
       "      <th>0</th>\n",
       "      <td>Syfe</td>\n",
       "      <td>The portfolio card user interface can be inco...</td>\n",
       "      <td>portfolio card user interface inconvenient m...</td>\n",
       "      <td>0.436364</td>\n",
       "      <td>0.236364</td>\n",
       "      <td>Positive</td>\n",
       "    </tr>\n",
       "    <tr>\n",
       "      <th>1</th>\n",
       "      <td>Syfe</td>\n",
       "      <td>This hybrid app is quite buggy compared Stasha...</td>\n",
       "      <td>hybrid app quite buggy compare Stashaway How...</td>\n",
       "      <td>0.500000</td>\n",
       "      <td>0.200000</td>\n",
       "      <td>Positive</td>\n",
       "    </tr>\n",
       "    <tr>\n",
       "      <th>2</th>\n",
       "      <td>Syfe</td>\n",
       "      <td>The app and website is just a bunch of fake li...</td>\n",
       "      <td>app website bunch fake lie Starting onboardi...</td>\n",
       "      <td>0.465833</td>\n",
       "      <td>-0.125000</td>\n",
       "      <td>Negative</td>\n",
       "    </tr>\n",
       "    <tr>\n",
       "      <th>3</th>\n",
       "      <td>Syfe</td>\n",
       "      <td>The app looks fantastic and it s so fresh with...</td>\n",
       "      <td>app look fantastic fresh different color muc...</td>\n",
       "      <td>0.473333</td>\n",
       "      <td>0.146667</td>\n",
       "      <td>Positive</td>\n",
       "    </tr>\n",
       "    <tr>\n",
       "      <th>4</th>\n",
       "      <td>Syfe</td>\n",
       "      <td>Hi there The app checks for latest version dur...</td>\n",
       "      <td>Hi app check late version launch alert user ...</td>\n",
       "      <td>0.551515</td>\n",
       "      <td>-0.154545</td>\n",
       "      <td>Negative</td>\n",
       "    </tr>\n",
       "  </tbody>\n",
       "</table>\n",
       "</div>"
      ],
      "text/plain": [
       "  app_name                                    cleaned_reviews  \\\n",
       "0     Syfe   The portfolio card user interface can be inco...   \n",
       "1     Syfe  This hybrid app is quite buggy compared Stasha...   \n",
       "2     Syfe  The app and website is just a bunch of fake li...   \n",
       "3     Syfe  The app looks fantastic and it s so fresh with...   \n",
       "4     Syfe  Hi there The app checks for latest version dur...   \n",
       "\n",
       "                                               Lemma  subjectivity  polarity  \\\n",
       "0    portfolio card user interface inconvenient m...      0.436364  0.236364   \n",
       "1    hybrid app quite buggy compare Stashaway How...      0.500000  0.200000   \n",
       "2    app website bunch fake lie Starting onboardi...      0.465833 -0.125000   \n",
       "3    app look fantastic fresh different color muc...      0.473333  0.146667   \n",
       "4    Hi app check late version launch alert user ...      0.551515 -0.154545   \n",
       "\n",
       "  textblob-analysis  \n",
       "0          Positive  \n",
       "1          Positive  \n",
       "2          Negative  \n",
       "3          Positive  \n",
       "4          Negative  "
      ]
     },
     "metadata": {},
     "execution_count": 69
    }
   ],
   "metadata": {}
  },
  {
   "cell_type": "code",
   "execution_count": null,
   "source": [
    "tb_counts = fin_data.groupby(by=['app_name','textblob-analysis']).size()\n",
    "tb_counts\n"
   ],
   "outputs": [
    {
     "output_type": "execute_result",
     "data": {
      "text/plain": [
       "app_name   textblob-analysis\n",
       "Endowus    Negative                5\n",
       "           Neutral                12\n",
       "           Positive              193\n",
       "StashAway  Negative               97\n",
       "           Neutral               157\n",
       "           Positive             1401\n",
       "Syfe       Negative               30\n",
       "           Neutral                42\n",
       "           Positive              102\n",
       "dtype: int64"
      ]
     },
     "metadata": {},
     "execution_count": 70
    }
   ],
   "metadata": {}
  },
  {
   "cell_type": "markdown",
   "source": [
    "## 2b. Sentiment Analysis using VADER\n",
    "\n",
    "- positive if compound >= 0.5\n",
    "- neutral if -0.5 < compound < 0.5\n",
    "- negative if -0.5 >= compound"
   ],
   "metadata": {}
  },
  {
   "cell_type": "code",
   "execution_count": null,
   "source": [
    "from vaderSentiment.vaderSentiment import SentimentIntensityAnalyzer\n",
    "analyzer = SentimentIntensityAnalyzer()\n",
    "\n",
    "# Function to return sentiment based on input text. Sentiment label consist of:\n",
    "def calc_vader_sentiment(text):\n",
    "    vs = analyzer.polarity_scores(str(text))\n",
    "    compound = vs['compound']\n",
    "    if (compound >= 0.5):\n",
    "        sentiment = 'Positive'\n",
    "    elif(compound <= -0.5):\n",
    "        sentiment = 'Negative'\n",
    "    else:\n",
    "        sentiment = 'Neutral'\n",
    "    return sentiment\n",
    "\n",
    "fin_data['vader-analysis'] = fin_data['Lemma'].apply(calc_vader_sentiment)\n",
    "fin_data.head()"
   ],
   "outputs": [
    {
     "output_type": "execute_result",
     "data": {
      "text/html": [
       "<div>\n",
       "<style scoped>\n",
       "    .dataframe tbody tr th:only-of-type {\n",
       "        vertical-align: middle;\n",
       "    }\n",
       "\n",
       "    .dataframe tbody tr th {\n",
       "        vertical-align: top;\n",
       "    }\n",
       "\n",
       "    .dataframe thead th {\n",
       "        text-align: right;\n",
       "    }\n",
       "</style>\n",
       "<table border=\"1\" class=\"dataframe\">\n",
       "  <thead>\n",
       "    <tr style=\"text-align: right;\">\n",
       "      <th></th>\n",
       "      <th>app_name</th>\n",
       "      <th>cleaned_reviews</th>\n",
       "      <th>Lemma</th>\n",
       "      <th>subjectivity</th>\n",
       "      <th>polarity</th>\n",
       "      <th>textblob-analysis</th>\n",
       "      <th>vader-analysis</th>\n",
       "    </tr>\n",
       "  </thead>\n",
       "  <tbody>\n",
       "    <tr>\n",
       "      <th>0</th>\n",
       "      <td>Syfe</td>\n",
       "      <td>The portfolio card user interface can be inco...</td>\n",
       "      <td>portfolio card user interface inconvenient m...</td>\n",
       "      <td>0.436364</td>\n",
       "      <td>0.236364</td>\n",
       "      <td>Positive</td>\n",
       "      <td>Positive</td>\n",
       "    </tr>\n",
       "    <tr>\n",
       "      <th>1</th>\n",
       "      <td>Syfe</td>\n",
       "      <td>This hybrid app is quite buggy compared Stasha...</td>\n",
       "      <td>hybrid app quite buggy compare Stashaway How...</td>\n",
       "      <td>0.500000</td>\n",
       "      <td>0.200000</td>\n",
       "      <td>Positive</td>\n",
       "      <td>Positive</td>\n",
       "    </tr>\n",
       "    <tr>\n",
       "      <th>2</th>\n",
       "      <td>Syfe</td>\n",
       "      <td>The app and website is just a bunch of fake li...</td>\n",
       "      <td>app website bunch fake lie Starting onboardi...</td>\n",
       "      <td>0.465833</td>\n",
       "      <td>-0.125000</td>\n",
       "      <td>Negative</td>\n",
       "      <td>Negative</td>\n",
       "    </tr>\n",
       "    <tr>\n",
       "      <th>3</th>\n",
       "      <td>Syfe</td>\n",
       "      <td>The app looks fantastic and it s so fresh with...</td>\n",
       "      <td>app look fantastic fresh different color muc...</td>\n",
       "      <td>0.473333</td>\n",
       "      <td>0.146667</td>\n",
       "      <td>Positive</td>\n",
       "      <td>Positive</td>\n",
       "    </tr>\n",
       "    <tr>\n",
       "      <th>4</th>\n",
       "      <td>Syfe</td>\n",
       "      <td>Hi there The app checks for latest version dur...</td>\n",
       "      <td>Hi app check late version launch alert user ...</td>\n",
       "      <td>0.551515</td>\n",
       "      <td>-0.154545</td>\n",
       "      <td>Negative</td>\n",
       "      <td>Positive</td>\n",
       "    </tr>\n",
       "  </tbody>\n",
       "</table>\n",
       "</div>"
      ],
      "text/plain": [
       "  app_name                                    cleaned_reviews  \\\n",
       "0     Syfe   The portfolio card user interface can be inco...   \n",
       "1     Syfe  This hybrid app is quite buggy compared Stasha...   \n",
       "2     Syfe  The app and website is just a bunch of fake li...   \n",
       "3     Syfe  The app looks fantastic and it s so fresh with...   \n",
       "4     Syfe  Hi there The app checks for latest version dur...   \n",
       "\n",
       "                                               Lemma  subjectivity  polarity  \\\n",
       "0    portfolio card user interface inconvenient m...      0.436364  0.236364   \n",
       "1    hybrid app quite buggy compare Stashaway How...      0.500000  0.200000   \n",
       "2    app website bunch fake lie Starting onboardi...      0.465833 -0.125000   \n",
       "3    app look fantastic fresh different color muc...      0.473333  0.146667   \n",
       "4    Hi app check late version launch alert user ...      0.551515 -0.154545   \n",
       "\n",
       "  textblob-analysis vader-analysis  \n",
       "0          Positive       Positive  \n",
       "1          Positive       Positive  \n",
       "2          Negative       Negative  \n",
       "3          Positive       Positive  \n",
       "4          Negative       Positive  "
      ]
     },
     "metadata": {},
     "execution_count": 71
    }
   ],
   "metadata": {}
  },
  {
   "cell_type": "code",
   "execution_count": null,
   "source": [
    "vd_counts = fin_data.groupby(by=['app_name','vader-analysis']).size()\n",
    "vd_counts"
   ],
   "outputs": [
    {
     "output_type": "execute_result",
     "data": {
      "text/plain": [
       "app_name   vader-analysis\n",
       "Endowus    Neutral             44\n",
       "           Positive           166\n",
       "StashAway  Negative            30\n",
       "           Neutral            466\n",
       "           Positive          1159\n",
       "Syfe       Negative            10\n",
       "           Neutral            103\n",
       "           Positive            61\n",
       "dtype: int64"
      ]
     },
     "metadata": {},
     "execution_count": 72
    }
   ],
   "metadata": {}
  },
  {
   "cell_type": "markdown",
   "source": [
    "## 2c. Sentiment Analysis using SentiWordNet\n",
    "\n",
    "- if positive score > negative score, the sentiment is positive\n",
    "- if positive score < negative score, the sentiment is negative\n",
    "- if positive score = negative score, the sentiment is neutral\n",
    "\n"
   ],
   "metadata": {}
  },
  {
   "cell_type": "code",
   "execution_count": null,
   "source": [
    "# Download sentiwordnet resource if unavailable\n",
    "# nltk.download('sentiwordnet')\n",
    "from nltk.corpus import sentiwordnet as swn\n",
    "\n",
    "def sentiwordnetanalysis(pos_data):\n",
    "    sentiment = 0\n",
    "    tokens_count = 0\n",
    "    for word, pos in pos_data:\n",
    "        if not pos:\n",
    "            continue\n",
    "        lemma = wordnet_lemmatizer.lemmatize(word, pos=pos)\n",
    "        if not lemma:\n",
    "            continue\n",
    "        synsets = wordnet.synsets(lemma, pos=pos)\n",
    "        if not synsets:\n",
    "            continue\n",
    "        # Take the first sense, the most common\n",
    "        synset = synsets[0]\n",
    "        swn_synset = swn.senti_synset(synset.name())\n",
    "        sentiment += swn_synset.pos_score() - swn_synset.neg_score()\n",
    "        tokens_count += 1\n",
    "        # print(swn_synset.pos_score(),swn_synset.neg_score(),swn_synset.obj_score())\n",
    "        if not tokens_count:\n",
    "            return 0\n",
    "        if sentiment>0:\n",
    "            return \"Positive\"\n",
    "        if sentiment==0:\n",
    "            return \"Neutral\"\n",
    "        else:\n",
    "            return \"Negative\"\n",
    "\n",
    "fin_data['swn-analysis'] = app_reviews['pos_tagged'].apply(sentiwordnetanalysis)\n",
    "fin_data.head()"
   ],
   "outputs": [
    {
     "output_type": "execute_result",
     "data": {
      "text/html": [
       "<div>\n",
       "<style scoped>\n",
       "    .dataframe tbody tr th:only-of-type {\n",
       "        vertical-align: middle;\n",
       "    }\n",
       "\n",
       "    .dataframe tbody tr th {\n",
       "        vertical-align: top;\n",
       "    }\n",
       "\n",
       "    .dataframe thead th {\n",
       "        text-align: right;\n",
       "    }\n",
       "</style>\n",
       "<table border=\"1\" class=\"dataframe\">\n",
       "  <thead>\n",
       "    <tr style=\"text-align: right;\">\n",
       "      <th></th>\n",
       "      <th>app_name</th>\n",
       "      <th>cleaned_reviews</th>\n",
       "      <th>Lemma</th>\n",
       "      <th>subjectivity</th>\n",
       "      <th>polarity</th>\n",
       "      <th>textblob-analysis</th>\n",
       "      <th>vader-analysis</th>\n",
       "      <th>swn-analysis</th>\n",
       "    </tr>\n",
       "  </thead>\n",
       "  <tbody>\n",
       "    <tr>\n",
       "      <th>0</th>\n",
       "      <td>Syfe</td>\n",
       "      <td>The portfolio card user interface can be inco...</td>\n",
       "      <td>portfolio card user interface inconvenient m...</td>\n",
       "      <td>0.436364</td>\n",
       "      <td>0.236364</td>\n",
       "      <td>Positive</td>\n",
       "      <td>Positive</td>\n",
       "      <td>Neutral</td>\n",
       "    </tr>\n",
       "    <tr>\n",
       "      <th>1</th>\n",
       "      <td>Syfe</td>\n",
       "      <td>This hybrid app is quite buggy compared Stasha...</td>\n",
       "      <td>hybrid app quite buggy compare Stashaway How...</td>\n",
       "      <td>0.500000</td>\n",
       "      <td>0.200000</td>\n",
       "      <td>Positive</td>\n",
       "      <td>Positive</td>\n",
       "      <td>Neutral</td>\n",
       "    </tr>\n",
       "    <tr>\n",
       "      <th>2</th>\n",
       "      <td>Syfe</td>\n",
       "      <td>The app and website is just a bunch of fake li...</td>\n",
       "      <td>app website bunch fake lie Starting onboardi...</td>\n",
       "      <td>0.465833</td>\n",
       "      <td>-0.125000</td>\n",
       "      <td>Negative</td>\n",
       "      <td>Negative</td>\n",
       "      <td>Neutral</td>\n",
       "    </tr>\n",
       "    <tr>\n",
       "      <th>3</th>\n",
       "      <td>Syfe</td>\n",
       "      <td>The app looks fantastic and it s so fresh with...</td>\n",
       "      <td>app look fantastic fresh different color muc...</td>\n",
       "      <td>0.473333</td>\n",
       "      <td>0.146667</td>\n",
       "      <td>Positive</td>\n",
       "      <td>Positive</td>\n",
       "      <td>Neutral</td>\n",
       "    </tr>\n",
       "    <tr>\n",
       "      <th>4</th>\n",
       "      <td>Syfe</td>\n",
       "      <td>Hi there The app checks for latest version dur...</td>\n",
       "      <td>Hi app check late version launch alert user ...</td>\n",
       "      <td>0.551515</td>\n",
       "      <td>-0.154545</td>\n",
       "      <td>Negative</td>\n",
       "      <td>Positive</td>\n",
       "      <td>Neutral</td>\n",
       "    </tr>\n",
       "  </tbody>\n",
       "</table>\n",
       "</div>"
      ],
      "text/plain": [
       "  app_name                                    cleaned_reviews  \\\n",
       "0     Syfe   The portfolio card user interface can be inco...   \n",
       "1     Syfe  This hybrid app is quite buggy compared Stasha...   \n",
       "2     Syfe  The app and website is just a bunch of fake li...   \n",
       "3     Syfe  The app looks fantastic and it s so fresh with...   \n",
       "4     Syfe  Hi there The app checks for latest version dur...   \n",
       "\n",
       "                                               Lemma  subjectivity  polarity  \\\n",
       "0    portfolio card user interface inconvenient m...      0.436364  0.236364   \n",
       "1    hybrid app quite buggy compare Stashaway How...      0.500000  0.200000   \n",
       "2    app website bunch fake lie Starting onboardi...      0.465833 -0.125000   \n",
       "3    app look fantastic fresh different color muc...      0.473333  0.146667   \n",
       "4    Hi app check late version launch alert user ...      0.551515 -0.154545   \n",
       "\n",
       "  textblob-analysis vader-analysis swn-analysis  \n",
       "0          Positive       Positive      Neutral  \n",
       "1          Positive       Positive      Neutral  \n",
       "2          Negative       Negative      Neutral  \n",
       "3          Positive       Positive      Neutral  \n",
       "4          Negative       Positive      Neutral  "
      ]
     },
     "metadata": {},
     "execution_count": 73
    }
   ],
   "metadata": {}
  },
  {
   "cell_type": "code",
   "execution_count": null,
   "source": [
    "swn_counts = fin_data.groupby(by=['app_name','swn-analysis']).size()\n",
    "swn_counts"
   ],
   "outputs": [
    {
     "output_type": "execute_result",
     "data": {
      "text/plain": [
       "app_name   swn-analysis\n",
       "Endowus    Negative         12\n",
       "           Neutral         134\n",
       "           Positive         63\n",
       "StashAway  Negative        130\n",
       "           Neutral         983\n",
       "           Positive        511\n",
       "Syfe       Negative         19\n",
       "           Neutral         117\n",
       "           Positive         37\n",
       "dtype: int64"
      ]
     },
     "metadata": {},
     "execution_count": 74
    }
   ],
   "metadata": {}
  },
  {
   "cell_type": "markdown",
   "source": [
    "# 3. Visualise Results"
   ],
   "metadata": {}
  },
  {
   "cell_type": "code",
   "execution_count": null,
   "source": [
    "import matplotlib.pyplot as plt\n",
    "%matplotlib inline\n",
    "import seaborn as sns"
   ],
   "outputs": [],
   "metadata": {}
  },
  {
   "cell_type": "code",
   "execution_count": null,
   "source": [
    "# Convert sentiment results from series into dataframes\n",
    "tb_counts_df = pd.DataFrame(tb_counts).reset_index().rename(columns={0:'count'})\n",
    "vd_counts_df = pd.DataFrame(vd_counts).reset_index().rename(columns={0:'count'})\n",
    "swn_counts_df = pd.DataFrame(swn_counts).reset_index().rename(columns={0:'count'})\n"
   ],
   "outputs": [],
   "metadata": {}
  },
  {
   "cell_type": "markdown",
   "source": [
    "### Absolute Comparison"
   ],
   "metadata": {}
  },
  {
   "cell_type": "code",
   "execution_count": null,
   "source": [
    "sns.set_style( 'darkgrid' )\n",
    "col = sns.color_palette(\"Set2\")\n",
    "fig, axes = plt.subplots(1,3,figsize=[30,8])\n",
    "fig.suptitle('Rule Based Sentiment Analysis on Syfe, Endowus and StashAway')\n",
    "\n",
    "## Plot 1\n",
    "sns.barplot(ax=axes[0],data=tb_counts_df,x='app_name',y='count',hue='textblob-analysis', palette=col)\n",
    "axes[0].set_title('Sentiment Analysis using TextBlob')\n",
    "axes[0].set_ylabel('Score Count')\n",
    "\n",
    "## Plot 2\n",
    "sns.barplot(ax=axes[1],data=vd_counts_df,x='app_name',y='count',hue='vader-analysis', palette=col)\n",
    "axes[1].set_title('Sentiment Analysis using VADER')\n",
    "axes[1].set_ylabel('Score Count')\n",
    "\n",
    "## Plot 3\n",
    "sns.barplot(ax=axes[2],data=swn_counts_df,x='app_name',y='count',hue='swn-analysis', palette=col)\n",
    "axes[2].set_title('Sentiment Analysis using SentiWordNet')\n",
    "axes[2].set_ylabel('Score Count')"
   ],
   "outputs": [
    {
     "output_type": "execute_result",
     "data": {
      "text/plain": [
       "Text(0, 0.5, 'Score Count')"
      ]
     },
     "metadata": {},
     "execution_count": 77
    },
    {
     "output_type": "display_data",
     "data": {
      "image/png": "[encoded data removed]",
      "text/plain": [
       "<Figure size 2160x576 with 3 Axes>"
      ]
     },
     "metadata": {}
    }
   ],
   "metadata": {}
  },
  {
   "cell_type": "markdown",
   "source": [
    "### Percentage Comparison"
   ],
   "metadata": {}
  },
  {
   "cell_type": "code",
   "execution_count": null,
   "source": [
    "# Convert sentiment results from series into dataframes\n",
    "tb_grouped_df = tb_counts_df.groupby(['app_name',tb_counts_df['textblob-analysis']]).agg({'count':'sum'})\n",
    "tb_percent_df = tb_grouped_df.groupby(level=0).apply(lambda x: 100*x/float(x.sum()))\n",
    "tb_percent_df = pd.DataFrame(tb_percent_df).reset_index().rename(columns={'count':'perc_count'})\n",
    "\n",
    "vd_grouped_df = vd_counts_df .groupby(['app_name',vd_counts_df['vader-analysis']]).agg({'count':'sum'})\n",
    "vd_percent_df = vd_grouped_df.groupby(level=0).apply(lambda x: 100*x/float(x.sum()))\n",
    "vd_percent_df = pd.DataFrame(vd_percent_df).reset_index().rename(columns={'count':'perc_count'})\n",
    "\n",
    "\n",
    "swn_grouped_df = swn_counts_df .groupby(['app_name',swn_counts_df['swn-analysis']]).agg({'count':'sum'})\n",
    "swn_percent_df = swn_grouped_df.groupby(level=0).apply(lambda x: 100*x/float(x.sum()))\n",
    "swn_percent_df = pd.DataFrame(swn_percent_df).reset_index().rename(columns={'count':'perc_count'})\n"
   ],
   "outputs": [],
   "metadata": {}
  },
  {
   "cell_type": "code",
   "execution_count": null,
   "source": [
    "sns.set_style( 'darkgrid' )\n",
    "col = sns.color_palette(\"Set2\")\n",
    "fig1, axes1 = plt.subplots(1,3,figsize=[30,8])\n",
    "fig1.suptitle('Rule Based Sentiment Analysis on Syfe, Endowus and StashAway')\n",
    "\n",
    "## Plot 1\n",
    "sns.barplot(ax=axes1[0],data=tb_percent_df,x='app_name',y='perc_count',hue='textblob-analysis', palette=col)\n",
    "axes1[0].set_title('Sentiment Analysis using TextBlob')\n",
    "axes1[0].set_ylabel('Score Count (%)')\n",
    "\n",
    "## Plot 2\n",
    "sns.barplot(ax=axes1[1],data=vd_percent_df,x='app_name',y='perc_count',hue='vader-analysis', palette=col)\n",
    "axes1[1].set_title('Sentiment Analysis using VADER')\n",
    "axes1[1].set_ylabel('Score Count (%)')\n",
    "\n",
    "## Plot 3\n",
    "sns.barplot(ax=axes1[2],data=swn_percent_df,x='app_name',y='perc_count',hue='swn-analysis', palette=col)\n",
    "axes1[2].set_title('Sentiment Analysis using SentiWordNet')\n",
    "axes1[2].set_ylabel('Score Count (%)')"
   ],
   "outputs": [
    {
     "output_type": "execute_result",
     "data": {
      "text/plain": [
       "Text(0, 0.5, 'Score Count (%)')"
      ]
     },
     "metadata": {},
     "execution_count": 79
    },
    {
     "output_type": "display_data",
     "data": {
      "image/png": "[encoded data removed]",
      "text/plain": [
       "<Figure size 2160x576 with 3 Axes>"
      ]
     },
     "metadata": {}
    }
   ],
   "metadata": {}
  },
  {
   "cell_type": "markdown",
   "source": [
    "# Key Takeaways\n",
    "- Looking purely at their absolute numbers, Stashaway have the highest number of scores given that it has the largest number of app reviews. It's number of positive scores are overwhelmingly higher than negative scores. \n",
    "- Using SentiWordNet appears to depress the scores variance, with more scores distributed around neutral scores. Focusing on Stashaway, the number of positive  reviews decreased, and the number neutral scores shot up. \n",
    "- In terms of percentage score, Endowus leads in this aspect, with the highest percentage of positive reviews compared to StashAway and Syfe.\n",
    "- All 3 roboadvisors have a higher percentage of positive scores, with a small percentage of negative reviews.\n",
    "- Hierarchy of choice: Endowus or Stashaway > Syfe\n",
    "- Anyone looking to choose any one of these roboadvisors can rest assured that all 3 apps have garnered good reviews from the users. \n"
   ],
   "metadata": {}
  }
 ],
 "metadata": {
  "orig_nbformat": 4,
  "language_info": {
   "name": "python",
   "version": "3.9.5",
   "mimetype": "text/x-python",
   "codemirror_mode": {
    "name": "ipython",
    "version": 3
   },
   "pygments_lexer": "ipython3",
   "nbconvert_exporter": "python",
   "file_extension": ".py"
  },
  "kernelspec": {
   "name": "python3",
   "display_name": "Python 3.9.5 64-bit ('python_playground': pyenv)"
  },
  "interpreter": {
   "hash": "a6d1b274f901ed7a2522d7326b4d4fc301d947b33c5f55b995b8ab621df4372a"
  }
 },
 "nbformat": 4,
 "nbformat_minor": 2
}